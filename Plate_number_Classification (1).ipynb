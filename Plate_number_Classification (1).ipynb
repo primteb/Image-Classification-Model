{
 "cells": [
  {
   "cell_type": "code",
   "execution_count": 0,
   "metadata": {
    "colab": {},
    "colab_type": "code",
    "id": "m9kIuICt50Vt"
   },
   "outputs": [],
   "source": [
    "import tensorflow as tf"
   ]
  },
  {
   "cell_type": "code",
   "execution_count": 10,
   "metadata": {
    "colab": {
     "base_uri": "https://localhost:8080/",
     "height": 34
    },
    "colab_type": "code",
    "id": "IRKZvDV96o4u",
    "outputId": "772ff4a5-fc93-43a9-92d5-1dbbd4fb92f9"
   },
   "outputs": [
    {
     "name": "stdout",
     "output_type": "stream",
     "text": [
      "Drive already mounted at /gdrive; to attempt to forcibly remount, call drive.mount(\"/gdrive\", force_remount=True).\n"
     ]
    }
   ],
   "source": [
    "from google.colab import drive\n",
    "drive.mount('/gdrive')\n"
   ]
  },
  {
   "cell_type": "code",
   "execution_count": 3,
   "metadata": {
    "colab": {
     "base_uri": "https://localhost:8080/",
     "height": 34
    },
    "colab_type": "code",
    "id": "zMO8LOkW85TB",
    "outputId": "e7f170cd-4f50-46c1-a9fb-3fae25a4d2f2"
   },
   "outputs": [
    {
     "name": "stderr",
     "output_type": "stream",
     "text": [
      "Using TensorFlow backend.\n"
     ]
    }
   ],
   "source": [
    "from keras.preprocessing.image import ImageDataGenerator"
   ]
  },
  {
   "cell_type": "code",
   "execution_count": 50,
   "metadata": {
    "colab": {
     "base_uri": "https://localhost:8080/",
     "height": 34
    },
    "colab_type": "code",
    "id": "KADppKaf9EZo",
    "outputId": "e0ff431c-b024-4d50-c058-f7f72a381f8a"
   },
   "outputs": [
    {
     "name": "stdout",
     "output_type": "stream",
     "text": [
      "Found 249 images belonging to 2 classes.\n"
     ]
    }
   ],
   "source": [
    "from keras.preprocessing.image import ImageDataGenerator\n",
    "\n",
    "pic_size= 48\n",
    "\n",
    "batch_size = 128\n",
    "path = '/gdrive/My Drive/plate_number_classmodel/'\n",
    "datagen_train = ImageDataGenerator()\n",
    "datagen_ = ImageDataGenerator()\n",
    "\n",
    "train_generator = datagen_train.flow_from_directory(path,\n",
    "                                                    target_size=(pic_size,pic_size),\n",
    "                                                    color_mode=\"grayscale\",\n",
    "                                                    batch_size=batch_size,\n",
    "                                                    class_mode='categorical',\n",
    "                                                    shuffle=True)\n",
    "\n",
    "\n"
   ]
  },
  {
   "cell_type": "code",
   "execution_count": 58,
   "metadata": {
    "colab": {
     "base_uri": "https://localhost:8080/",
     "height": 34
    },
    "colab_type": "code",
    "id": "yG8iWyvNXfRr",
    "outputId": "709b228b-a0bb-4022-8064-6a4001e665e5"
   },
   "outputs": [
    {
     "name": "stdout",
     "output_type": "stream",
     "text": [
      "Found 2 images belonging to 2 classes.\n"
     ]
    }
   ],
   "source": [
    "val_path = '/gdrive/My Drive/'\n",
    "validation_generator = datagen_validation.flow_from_directory(val_path + \"val\",\n",
    "                                                    target_size=(pic_size,pic_size),\n",
    "                                                    color_mode=\"grayscale\",\n",
    "                                                    batch_size=batch_size,\n",
    "                                                    class_mode='categorical',\n",
    "                                                    shuffle=False)"
   ]
  },
  {
   "cell_type": "code",
   "execution_count": 55,
   "metadata": {
    "colab": {
     "base_uri": "https://localhost:8080/",
     "height": 1000
    },
    "colab_type": "code",
    "id": "pXR04ESRb-W4",
    "outputId": "73522793-10cd-41a9-b40b-6b4db88e5b70"
   },
   "outputs": [
    {
     "name": "stdout",
     "output_type": "stream",
     "text": [
      "WARNING:tensorflow:From /usr/local/lib/python3.6/dist-packages/keras/backend/tensorflow_backend.py:66: The name tf.get_default_graph is deprecated. Please use tf.compat.v1.get_default_graph instead.\n",
      "\n",
      "WARNING:tensorflow:From /usr/local/lib/python3.6/dist-packages/keras/backend/tensorflow_backend.py:541: The name tf.placeholder is deprecated. Please use tf.compat.v1.placeholder instead.\n",
      "\n",
      "WARNING:tensorflow:From /usr/local/lib/python3.6/dist-packages/keras/backend/tensorflow_backend.py:4432: The name tf.random_uniform is deprecated. Please use tf.random.uniform instead.\n",
      "\n",
      "WARNING:tensorflow:From /usr/local/lib/python3.6/dist-packages/keras/backend/tensorflow_backend.py:190: The name tf.get_default_session is deprecated. Please use tf.compat.v1.get_default_session instead.\n",
      "\n",
      "WARNING:tensorflow:From /usr/local/lib/python3.6/dist-packages/keras/backend/tensorflow_backend.py:197: The name tf.ConfigProto is deprecated. Please use tf.compat.v1.ConfigProto instead.\n",
      "\n",
      "WARNING:tensorflow:From /usr/local/lib/python3.6/dist-packages/keras/backend/tensorflow_backend.py:2041: The name tf.nn.fused_batch_norm is deprecated. Please use tf.compat.v1.nn.fused_batch_norm instead.\n",
      "\n",
      "WARNING:tensorflow:From /usr/local/lib/python3.6/dist-packages/keras/backend/tensorflow_backend.py:4267: The name tf.nn.max_pool is deprecated. Please use tf.nn.max_pool2d instead.\n",
      "\n",
      "WARNING:tensorflow:From /usr/local/lib/python3.6/dist-packages/keras/backend/tensorflow_backend.py:3733: calling dropout (from tensorflow.python.ops.nn_ops) with keep_prob is deprecated and will be removed in a future version.\n",
      "Instructions for updating:\n",
      "Please use `rate` instead of `keep_prob`. Rate should be set to `rate = 1 - keep_prob`.\n",
      "Model: \"sequential_1\"\n",
      "_________________________________________________________________\n",
      "Layer (type)                 Output Shape              Param #   \n",
      "=================================================================\n",
      "conv2d_1 (Conv2D)            (None, 48, 48, 64)        640       \n",
      "_________________________________________________________________\n",
      "batch_normalization_1 (Batch (None, 48, 48, 64)        256       \n",
      "_________________________________________________________________\n",
      "activation_1 (Activation)    (None, 48, 48, 64)        0         \n",
      "_________________________________________________________________\n",
      "max_pooling2d_1 (MaxPooling2 (None, 24, 24, 64)        0         \n",
      "_________________________________________________________________\n",
      "dropout_1 (Dropout)          (None, 24, 24, 64)        0         \n",
      "_________________________________________________________________\n",
      "conv2d_2 (Conv2D)            (None, 24, 24, 128)       204928    \n",
      "_________________________________________________________________\n",
      "batch_normalization_2 (Batch (None, 24, 24, 128)       512       \n",
      "_________________________________________________________________\n",
      "activation_2 (Activation)    (None, 24, 24, 128)       0         \n",
      "_________________________________________________________________\n",
      "max_pooling2d_2 (MaxPooling2 (None, 12, 12, 128)       0         \n",
      "_________________________________________________________________\n",
      "dropout_2 (Dropout)          (None, 12, 12, 128)       0         \n",
      "_________________________________________________________________\n",
      "flatten_1 (Flatten)          (None, 18432)             0         \n",
      "_________________________________________________________________\n",
      "dense_1 (Dense)              (None, 256)               4718848   \n",
      "_________________________________________________________________\n",
      "batch_normalization_3 (Batch (None, 256)               1024      \n",
      "_________________________________________________________________\n",
      "activation_3 (Activation)    (None, 256)               0         \n",
      "_________________________________________________________________\n",
      "dropout_3 (Dropout)          (None, 256)               0         \n",
      "_________________________________________________________________\n",
      "dropout_4 (Dropout)          (None, 256)               0         \n",
      "_________________________________________________________________\n",
      "dense_2 (Dense)              (None, 2)                 514       \n",
      "=================================================================\n",
      "Total params: 4,926,722\n",
      "Trainable params: 4,925,826\n",
      "Non-trainable params: 896\n",
      "_________________________________________________________________\n"
     ]
    }
   ],
   "source": [
    "from keras.models import Sequential\n",
    "from keras.layers.normalization import BatchNormalization\n",
    "from keras.layers.convolutional import Conv2D\n",
    "from keras.layers.convolutional import MaxPooling2D\n",
    "from keras.layers.core import Activation\n",
    "from keras.layers.core import Flatten\n",
    "from keras.layers.core import Dropout\n",
    "from keras.layers.core import Dense\n",
    "\n",
    "\n",
    "model =  Sequential()\n",
    "model.add(Conv2D(64,(3,3), padding='same', input_shape=(48, 48,1)))\n",
    "model.add(BatchNormalization())\n",
    "model.add(Activation('relu'))\n",
    "model.add(MaxPooling2D(pool_size=(2, 2)))\n",
    "model.add(Dropout(0.2))\n",
    "\n",
    "\n",
    "model.add(Conv2D(128,(5,5), padding='same'))\n",
    "model.add(BatchNormalization())\n",
    "model.add(Activation('relu'))\n",
    "model.add(MaxPooling2D(pool_size=(2, 2)))\n",
    "model.add(Dropout(0.25))\n",
    "\n",
    "\n",
    "model.add(Flatten())\n",
    "model.add(Dense(256))\n",
    "model.add(BatchNormalization())\n",
    "model.add(Activation('relu'))\n",
    "model.add(Dropout(0.25))\n",
    "model.add(Dropout(0.2))\n",
    "\n",
    "\n",
    "model.add(Dense(2, activation='softmax'))\n",
    "\n",
    "model.summary()"
   ]
  },
  {
   "cell_type": "markdown",
   "metadata": {
    "colab_type": "text",
    "id": "DxzldhwvHGdX"
   },
   "source": [
    "# New Section"
   ]
  },
  {
   "cell_type": "code",
   "execution_count": 56,
   "metadata": {
    "colab": {
     "base_uri": "https://localhost:8080/",
     "height": 72
    },
    "colab_type": "code",
    "id": "lDVT2Ea7dICv",
    "outputId": "ca35084c-6124-4f89-edeb-28fb210a535d"
   },
   "outputs": [
    {
     "name": "stdout",
     "output_type": "stream",
     "text": [
      "WARNING:tensorflow:From /usr/local/lib/python3.6/dist-packages/keras/optimizers.py:793: The name tf.train.Optimizer is deprecated. Please use tf.compat.v1.train.Optimizer instead.\n",
      "\n"
     ]
    }
   ],
   "source": [
    "model.compile(optimizer='adam', \n",
    "              loss='categorical_crossentropy',\n",
    "              metrics=['accuracy']\n",
    "              )"
   ]
  },
  {
   "cell_type": "code",
   "execution_count": 59,
   "metadata": {
    "colab": {
     "base_uri": "https://localhost:8080/",
     "height": 1000
    },
    "colab_type": "code",
    "id": "pvVRXn5tdWUR",
    "outputId": "a894c374-d10c-4211-ad7b-c491feabb02e"
   },
   "outputs": [
    {
     "name": "stdout",
     "output_type": "stream",
     "text": [
      "WARNING:tensorflow:From /usr/local/lib/python3.6/dist-packages/tensorflow/python/ops/math_grad.py:1250: add_dispatch_support.<locals>.wrapper (from tensorflow.python.ops.array_ops) is deprecated and will be removed in a future version.\n",
      "Instructions for updating:\n",
      "Use tf.where in 2.0, which has the same broadcast rule as np.where\n",
      "Epoch 1/30\n",
      "5/5 [==============================] - 70s 14s/step - loss: 0.6420 - acc: 0.7579 - val_loss: 3.4203 - val_acc: 0.5000\n",
      "Epoch 2/30\n",
      "5/5 [==============================] - 19s 4s/step - loss: 0.0848 - acc: 0.9820 - val_loss: 0.4641 - val_acc: 1.0000\n",
      "Epoch 3/30\n",
      "5/5 [==============================] - 18s 4s/step - loss: 0.0296 - acc: 0.9951 - val_loss: 0.4369 - val_acc: 1.0000\n",
      "Epoch 4/30\n",
      "5/5 [==============================] - 19s 4s/step - loss: 0.0136 - acc: 1.0000 - val_loss: 0.4055 - val_acc: 1.0000\n",
      "Epoch 5/30\n",
      "5/5 [==============================] - 18s 4s/step - loss: 0.0095 - acc: 1.0000 - val_loss: 0.3858 - val_acc: 1.0000\n",
      "Epoch 6/30\n",
      "5/5 [==============================] - 19s 4s/step - loss: 0.0080 - acc: 0.9984 - val_loss: 0.5579 - val_acc: 0.5000\n",
      "Epoch 7/30\n",
      "5/5 [==============================] - 18s 4s/step - loss: 0.0041 - acc: 1.0000 - val_loss: 0.9674 - val_acc: 0.5000\n",
      "Epoch 8/30\n",
      "5/5 [==============================] - 19s 4s/step - loss: 0.0037 - acc: 1.0000 - val_loss: 1.3169 - val_acc: 0.5000\n",
      "Epoch 9/30\n",
      "5/5 [==============================] - 18s 4s/step - loss: 0.0035 - acc: 1.0000 - val_loss: 1.7480 - val_acc: 0.5000\n",
      "Epoch 10/30\n",
      "5/5 [==============================] - 20s 4s/step - loss: 0.0028 - acc: 1.0000 - val_loss: 1.9912 - val_acc: 0.5000\n",
      "Epoch 11/30\n",
      "5/5 [==============================] - 19s 4s/step - loss: 0.0024 - acc: 1.0000 - val_loss: 2.1203 - val_acc: 0.5000\n",
      "Epoch 12/30\n",
      "5/5 [==============================] - 20s 4s/step - loss: 0.0021 - acc: 1.0000 - val_loss: 2.1793 - val_acc: 0.5000\n",
      "Epoch 13/30\n",
      "5/5 [==============================] - 18s 4s/step - loss: 0.0019 - acc: 1.0000 - val_loss: 2.2702 - val_acc: 0.5000\n",
      "Epoch 14/30\n",
      "5/5 [==============================] - 19s 4s/step - loss: 0.0018 - acc: 1.0000 - val_loss: 2.3717 - val_acc: 0.5000\n",
      "Epoch 15/30\n",
      "5/5 [==============================] - 18s 4s/step - loss: 0.0016 - acc: 1.0000 - val_loss: 2.4560 - val_acc: 0.5000\n",
      "Epoch 16/30\n",
      "5/5 [==============================] - 19s 4s/step - loss: 0.0015 - acc: 1.0000 - val_loss: 2.5383 - val_acc: 0.5000\n",
      "Epoch 17/30\n",
      "5/5 [==============================] - 18s 4s/step - loss: 0.0014 - acc: 1.0000 - val_loss: 2.6154 - val_acc: 0.5000\n",
      "Epoch 18/30\n",
      "5/5 [==============================] - 19s 4s/step - loss: 0.0016 - acc: 1.0000 - val_loss: 2.6595 - val_acc: 0.5000\n",
      "Epoch 19/30\n",
      "5/5 [==============================] - 18s 4s/step - loss: 0.0015 - acc: 1.0000 - val_loss: 2.7145 - val_acc: 0.5000\n",
      "Epoch 20/30\n",
      "5/5 [==============================] - 20s 4s/step - loss: 0.0014 - acc: 1.0000 - val_loss: 2.7819 - val_acc: 0.5000\n",
      "Epoch 21/30\n",
      "5/5 [==============================] - 18s 4s/step - loss: 0.0011 - acc: 1.0000 - val_loss: 2.8785 - val_acc: 0.5000\n",
      "Epoch 22/30\n",
      "5/5 [==============================] - 19s 4s/step - loss: 0.0011 - acc: 1.0000 - val_loss: 2.9585 - val_acc: 0.5000\n",
      "Epoch 23/30\n",
      "5/5 [==============================] - 18s 4s/step - loss: 8.1924e-04 - acc: 1.0000 - val_loss: 3.0406 - val_acc: 0.5000\n",
      "Epoch 24/30\n",
      "5/5 [==============================] - 20s 4s/step - loss: 8.7869e-04 - acc: 1.0000 - val_loss: 3.1102 - val_acc: 0.5000\n",
      "Epoch 25/30\n",
      "5/5 [==============================] - 19s 4s/step - loss: 7.7172e-04 - acc: 1.0000 - val_loss: 3.1716 - val_acc: 0.5000\n",
      "Epoch 26/30\n",
      "5/5 [==============================] - 21s 4s/step - loss: 7.6883e-04 - acc: 1.0000 - val_loss: 3.2345 - val_acc: 0.5000\n",
      "Epoch 27/30\n",
      "5/5 [==============================] - 19s 4s/step - loss: 6.6713e-04 - acc: 1.0000 - val_loss: 3.2892 - val_acc: 0.5000\n",
      "Epoch 28/30\n",
      "5/5 [==============================] - 21s 4s/step - loss: 7.5043e-04 - acc: 1.0000 - val_loss: 3.3314 - val_acc: 0.5000\n",
      "Epoch 29/30\n",
      "5/5 [==============================] - 19s 4s/step - loss: 7.3136e-04 - acc: 1.0000 - val_loss: 3.3594 - val_acc: 0.5000\n",
      "Epoch 30/30\n",
      "5/5 [==============================] - 20s 4s/step - loss: 6.8411e-04 - acc: 1.0000 - val_loss: 3.3939 - val_acc: 0.5000\n"
     ]
    }
   ],
   "source": [
    "epochs = 30\n",
    "\n",
    "history = model.fit_generator(generator=train_generator,\n",
    "                                steps_per_epoch=5,\n",
    "                                epochs=epochs,\n",
    "                                validation_data = validation_generator,\n",
    "                                )"
   ]
  },
  {
   "cell_type": "code",
   "execution_count": 0,
   "metadata": {
    "colab": {},
    "colab_type": "code",
    "id": "N8376BZ3dfrI"
   },
   "outputs": [],
   "source": []
  },
  {
   "cell_type": "code",
   "execution_count": 0,
   "metadata": {
    "colab": {},
    "colab_type": "code",
    "id": "6xESVKP7izM5"
   },
   "outputs": [],
   "source": [
    "import numpy as np"
   ]
  },
  {
   "cell_type": "code",
   "execution_count": 61,
   "metadata": {
    "colab": {
     "base_uri": "https://localhost:8080/",
     "height": 52
    },
    "colab_type": "code",
    "id": "A78U-Ltgi72H",
    "outputId": "8d0fc0d3-753c-4faa-9429-d875a4e1c3de"
   },
   "outputs": [
    {
     "name": "stdout",
     "output_type": "stream",
     "text": [
      "[0, 0]\n",
      "[0 1]\n"
     ]
    }
   ],
   "source": [
    "predictions = model.predict_generator(generator=validation_generator)\n",
    "y_pred = [np.argmax(probas) for probas in predictions]\n",
    "y_test = validation_generator.classes\n",
    "class_names = validation_generator.class_indices.keys()\n",
    "\n",
    "print(y_pred)\n",
    "print(y_test)"
   ]
  },
  {
   "cell_type": "code",
   "execution_count": 0,
   "metadata": {
    "colab": {},
    "colab_type": "code",
    "id": "cobtXve-jFPZ"
   },
   "outputs": [],
   "source": []
  }
 ],
 "metadata": {
  "colab": {
   "collapsed_sections": [],
   "name": "Plate_number Classification",
   "provenance": []
  },
  "kernelspec": {
   "display_name": "Python 3",
   "language": "python",
   "name": "python3"
  },
  "language_info": {
   "codemirror_mode": {
    "name": "ipython",
    "version": 3
   },
   "file_extension": ".py",
   "mimetype": "text/x-python",
   "name": "python",
   "nbconvert_exporter": "python",
   "pygments_lexer": "ipython3",
   "version": "3.7.3"
  }
 },
 "nbformat": 4,
 "nbformat_minor": 1
}
